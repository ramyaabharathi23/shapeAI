{
  "nbformat": 4,
  "nbformat_minor": 0,
  "metadata": {
    "colab": {
      "name": "Ramyaabharathi M.ipynb",
      "provenance": []
    },
    "kernelspec": {
      "name": "python3",
      "display_name": "Python 3"
    }
  },
  "cells": [
    {
      "cell_type": "code",
      "metadata": {
        "id": "eEz5Ip8Yh7hq"
      },
      "source": [
        "import tensorflow as tf \r\n",
        "from tensorflow.keras import datasets, layers, models\r\n",
        "import matplotlib.pyplot as plt"
      ],
      "execution_count": 2,
      "outputs": []
    },
    {
      "cell_type": "code",
      "metadata": {
        "colab": {
          "base_uri": "https://localhost:8080/"
        },
        "id": "pd6s4wnIh_If",
        "outputId": "a1eeaa5b-ec9d-479c-f5d4-483b4f150846"
      },
      "source": [
        "(train_images,train_labels),(test_images, test_labels) = datasets.cifar10.load_data()\r\n",
        "\r\n",
        "#pixel value normalisation b/w 0 & 1\r\n",
        "train_images, test_images = train_images / 255.0, test_images / 255.0"
      ],
      "execution_count": 3,
      "outputs": [
        {
          "output_type": "stream",
          "text": [
            "Downloading data from https://www.cs.toronto.edu/~kriz/cifar-10-python.tar.gz\n",
            "170500096/170498071 [==============================] - 2s 0us/step\n"
          ],
          "name": "stdout"
        }
      ]
    },
    {
      "cell_type": "code",
      "metadata": {
        "id": "PBL_iCDEiA6H"
      },
      "source": [
        "model = models.Sequential()\r\n",
        "model.add(layers.Conv2D(32, (3, 3), activation='relu', input_shape=(32, 32, 3)))\r\n",
        "model.add(layers.MaxPooling2D((2,2)))\r\n",
        "model.add(layers.Conv2D(64, (3,3), activation='relu'))\r\n",
        "model.add(layers.MaxPooling2D((2,2)))\r\n",
        "model.add(layers.Conv2D(64, (3,3),activation='relu'))"
      ],
      "execution_count": 4,
      "outputs": []
    },
    {
      "cell_type": "code",
      "metadata": {
        "colab": {
          "base_uri": "https://localhost:8080/"
        },
        "id": "8K7C28k1iD7Q",
        "outputId": "cdf7d103-1a70-419f-d896-a4fc0fd5c41e"
      },
      "source": [
        "model.summary()"
      ],
      "execution_count": 5,
      "outputs": [
        {
          "output_type": "stream",
          "text": [
            "Model: \"sequential\"\n",
            "_________________________________________________________________\n",
            "Layer (type)                 Output Shape              Param #   \n",
            "=================================================================\n",
            "conv2d (Conv2D)              (None, 30, 30, 32)        896       \n",
            "_________________________________________________________________\n",
            "max_pooling2d (MaxPooling2D) (None, 15, 15, 32)        0         \n",
            "_________________________________________________________________\n",
            "conv2d_1 (Conv2D)            (None, 13, 13, 64)        18496     \n",
            "_________________________________________________________________\n",
            "max_pooling2d_1 (MaxPooling2 (None, 6, 6, 64)          0         \n",
            "_________________________________________________________________\n",
            "conv2d_2 (Conv2D)            (None, 4, 4, 64)          36928     \n",
            "=================================================================\n",
            "Total params: 56,320\n",
            "Trainable params: 56,320\n",
            "Non-trainable params: 0\n",
            "_________________________________________________________________\n"
          ],
          "name": "stdout"
        }
      ]
    },
    {
      "cell_type": "code",
      "metadata": {
        "id": "9elvR8daiG3D"
      },
      "source": [
        "model.add(layers.Flatten())\r\n",
        "model.add(layers.Dense(64, activation='relu'))\r\n",
        "model.add(layers.Dense(10))"
      ],
      "execution_count": 6,
      "outputs": []
    },
    {
      "cell_type": "code",
      "metadata": {
        "colab": {
          "base_uri": "https://localhost:8080/"
        },
        "id": "iRCYJvqwiJBo",
        "outputId": "8fe14fe2-8642-4dc5-a112-b81660ef47fb"
      },
      "source": [
        "model.summary()"
      ],
      "execution_count": 7,
      "outputs": [
        {
          "output_type": "stream",
          "text": [
            "Model: \"sequential\"\n",
            "_________________________________________________________________\n",
            "Layer (type)                 Output Shape              Param #   \n",
            "=================================================================\n",
            "conv2d (Conv2D)              (None, 30, 30, 32)        896       \n",
            "_________________________________________________________________\n",
            "max_pooling2d (MaxPooling2D) (None, 15, 15, 32)        0         \n",
            "_________________________________________________________________\n",
            "conv2d_1 (Conv2D)            (None, 13, 13, 64)        18496     \n",
            "_________________________________________________________________\n",
            "max_pooling2d_1 (MaxPooling2 (None, 6, 6, 64)          0         \n",
            "_________________________________________________________________\n",
            "conv2d_2 (Conv2D)            (None, 4, 4, 64)          36928     \n",
            "_________________________________________________________________\n",
            "flatten (Flatten)            (None, 1024)              0         \n",
            "_________________________________________________________________\n",
            "dense (Dense)                (None, 64)                65600     \n",
            "_________________________________________________________________\n",
            "dense_1 (Dense)              (None, 10)                650       \n",
            "=================================================================\n",
            "Total params: 122,570\n",
            "Trainable params: 122,570\n",
            "Non-trainable params: 0\n",
            "_________________________________________________________________\n"
          ],
          "name": "stdout"
        }
      ]
    },
    {
      "cell_type": "code",
      "metadata": {
        "colab": {
          "base_uri": "https://localhost:8080/"
        },
        "id": "wc7p3dshiLiE",
        "outputId": "84ab6774-f1d2-47f4-d152-fb94b6ffc548"
      },
      "source": [
        "\r\n",
        "model.compile(optimizer='adam',\r\n",
        "              loss=tf.keras.losses.SparseCategoricalCrossentropy(from_logits=True),\r\n",
        "              metrics=['accuracy'])\r\n",
        "\r\n",
        "history = model.fit(train_images, train_labels, epochs=10, \r\n",
        "                    validation_data=(test_images, test_labels))"
      ],
      "execution_count": 8,
      "outputs": [
        {
          "output_type": "stream",
          "text": [
            "Epoch 1/10\n",
            "1563/1563 [==============================] - 68s 43ms/step - loss: 1.7663 - accuracy: 0.3414 - val_loss: 1.2570 - val_accuracy: 0.5439\n",
            "Epoch 2/10\n",
            "1563/1563 [==============================] - 66s 43ms/step - loss: 1.2181 - accuracy: 0.5667 - val_loss: 1.1095 - val_accuracy: 0.6067\n",
            "Epoch 3/10\n",
            "1563/1563 [==============================] - 66s 43ms/step - loss: 1.0501 - accuracy: 0.6272 - val_loss: 0.9816 - val_accuracy: 0.6558\n",
            "Epoch 4/10\n",
            "1563/1563 [==============================] - 66s 42ms/step - loss: 0.9485 - accuracy: 0.6688 - val_loss: 0.9648 - val_accuracy: 0.6636\n",
            "Epoch 5/10\n",
            "1563/1563 [==============================] - 65s 41ms/step - loss: 0.8573 - accuracy: 0.6991 - val_loss: 0.9044 - val_accuracy: 0.6859\n",
            "Epoch 6/10\n",
            "1563/1563 [==============================] - 66s 42ms/step - loss: 0.7915 - accuracy: 0.7225 - val_loss: 0.9289 - val_accuracy: 0.6850\n",
            "Epoch 7/10\n",
            "1563/1563 [==============================] - 70s 45ms/step - loss: 0.7487 - accuracy: 0.7368 - val_loss: 0.8622 - val_accuracy: 0.7074\n",
            "Epoch 8/10\n",
            "1563/1563 [==============================] - 65s 42ms/step - loss: 0.7035 - accuracy: 0.7569 - val_loss: 0.8937 - val_accuracy: 0.6997\n",
            "Epoch 9/10\n",
            "1563/1563 [==============================] - 65s 42ms/step - loss: 0.6626 - accuracy: 0.7667 - val_loss: 0.8691 - val_accuracy: 0.7097\n",
            "Epoch 10/10\n",
            "1563/1563 [==============================] - 65s 42ms/step - loss: 0.6221 - accuracy: 0.7801 - val_loss: 0.8590 - val_accuracy: 0.7130\n"
          ],
          "name": "stdout"
        }
      ]
    },
    {
      "cell_type": "code",
      "metadata": {
        "colab": {
          "base_uri": "https://localhost:8080/"
        },
        "id": "zlg5i0DCiNVM",
        "outputId": "97f34a4d-cb24-4afa-83c9-490070449cab"
      },
      "source": [
        "test_loss, test_acc = model.evaluate(test_images, test_labels, verbose=2)"
      ],
      "execution_count": 9,
      "outputs": [
        {
          "output_type": "stream",
          "text": [
            "313/313 - 4s - loss: 0.8590 - accuracy: 0.7130\n"
          ],
          "name": "stdout"
        }
      ]
    },
    {
      "cell_type": "code",
      "metadata": {
        "colab": {
          "base_uri": "https://localhost:8080/"
        },
        "id": "88Bs1ApWiPij",
        "outputId": "8f696a25-982f-4a02-9a5e-abe6bcaf3aa3"
      },
      "source": [
        "print(test_acc)"
      ],
      "execution_count": 10,
      "outputs": [
        {
          "output_type": "stream",
          "text": [
            "0.7129999995231628\n"
          ],
          "name": "stdout"
        }
      ]
    }
  ]
}